{
  "nbformat": 4,
  "nbformat_minor": 0,
  "metadata": {
    "colab": {
      "provenance": [],
      "authorship_tag": "ABX9TyP7fTwc4Cc7OIsltfF96d66",
      "include_colab_link": true
    },
    "kernelspec": {
      "name": "python3",
      "display_name": "Python 3"
    },
    "language_info": {
      "name": "python"
    }
  },
  "cells": [
    {
      "cell_type": "markdown",
      "metadata": {
        "id": "view-in-github",
        "colab_type": "text"
      },
      "source": [
        "<a href=\"https://colab.research.google.com/github/411600264/Introduction-to-Computers/blob/main/0515.ipynb\" target=\"_parent\"><img src=\"https://colab.research.google.com/assets/colab-badge.svg\" alt=\"Open In Colab\"/></a>"
      ]
    },
    {
      "cell_type": "code",
      "execution_count": 6,
      "metadata": {
        "colab": {
          "base_uri": "https://localhost:8080/"
        },
        "id": "rpYma9JO4LdR",
        "outputId": "e6b20c4e-ab42-4258-ca28-1f027d5a6024"
      },
      "outputs": [
        {
          "output_type": "stream",
          "name": "stdout",
          "text": [
            "今天會下雨嗎?y\n",
            "出門記得帶傘\n"
          ]
        }
      ],
      "source": [
        "rain=input(\"今天會下雨嗎?\")\n",
        "if rain == \"Y\" :\n",
        "    print(\"出門記得帶傘\")\n",
        "elif rain == \"y\" :\n",
        "    print(\"出門記得帶傘\")\n",
        "elif rain ==\"m\" :\n",
        "    print(\"出門記得帶傘\")\n",
        "elif rain== \"N\" :\n",
        "    print(\"出門記得帶傘\")\n",
        "else:\n",
        "    print(\"請重新輸入\")"
      ]
    },
    {
      "cell_type": "code",
      "source": [
        "t=int(input(\"請書體溫:\"))\n",
        "if t>=37.5 :\n",
        "    print(\"體溫過高\")\n",
        "elif 37<=t<=37.4:\n",
        "    print(\"體溫略高\")\n",
        "elif 34<=t<=36.9:\n",
        "    print(\"體溫正常\")\n",
        "else:\n",
        "  print(\"體溫異常，請重新量測\")"
      ],
      "metadata": {
        "colab": {
          "base_uri": "https://localhost:8080/"
        },
        "id": "J7u94dZT5pZe",
        "outputId": "97907d64-cb26-4407-8964-9221b7adca8e"
      },
      "execution_count": 9,
      "outputs": [
        {
          "output_type": "stream",
          "name": "stdout",
          "text": [
            "請書體溫:39\n",
            "體溫過高\n"
          ]
        }
      ]
    },
    {
      "cell_type": "code",
      "source": [
        "s=int(input(\"請輸入成績\"))\n",
        "if s >=90:\n",
        "  print(\"a\")\n",
        "elif s>=80:\n",
        "    print(\"b\")\n",
        "elif s>=70:\n",
        "  print(\"c\")\n",
        "elif s>=60:\n",
        "  print(\"d\")\n",
        "else :\n",
        "  print(\"e\")"
      ],
      "metadata": {
        "colab": {
          "base_uri": "https://localhost:8080/"
        },
        "id": "fv7qpkC65pb0",
        "outputId": "282e8db3-987a-46f4-b511-652762544523"
      },
      "execution_count": 11,
      "outputs": [
        {
          "output_type": "stream",
          "name": "stdout",
          "text": [
            "請輸入成績100\n",
            "a\n"
          ]
        }
      ]
    },
    {
      "cell_type": "code",
      "source": [
        "month=int(input(\"請輸入月份\"))\n",
        "if month in [3,4,5]:\n",
        "  season=\"春天\"\n",
        "elif month in [6,7,8]:\n",
        "  seanson=\"夏天\"\n",
        "elif month in [9,10,11]:\n",
        "  season=\"秋天\"\n",
        "elif month in [12,1,2]:\n",
        "  seanson=\"冬天\"\n",
        "else:\n",
        "  seanson=\"月份不再範圍內\"\n",
        "print(f\"{month}月事{season}\")"
      ],
      "metadata": {
        "colab": {
          "base_uri": "https://localhost:8080/"
        },
        "id": "GjZUtWgJ5pdm",
        "outputId": "7d133bb1-3483-4a64-cfd5-3af6c6f2a709"
      },
      "execution_count": 14,
      "outputs": [
        {
          "output_type": "stream",
          "name": "stdout",
          "text": [
            "請輸入月份9\n",
            "9月事秋天\n"
          ]
        }
      ]
    },
    {
      "cell_type": "code",
      "source": [
        "income=float(input(\"請輸入金額\"))\n",
        "if income>=200000:\n",
        "  tax=income*0.3\n",
        "elif income>=100000:\n",
        "    tax= income*0.21\n",
        "elif income>=60000:\n",
        "    tax= income*0.13\n",
        "elif income>=30000:\n",
        "    tax= income*0.06\n",
        "else: \n",
        "  tax=0\n",
        "print(f\"賦稅金額為:{tax}元\")"
      ],
      "metadata": {
        "colab": {
          "base_uri": "https://localhost:8080/"
        },
        "id": "y_bQ9Ma28HfF",
        "outputId": "37af438d-c120-4d16-be11-29dd814440e3"
      },
      "execution_count": 15,
      "outputs": [
        {
          "output_type": "stream",
          "name": "stdout",
          "text": [
            "請輸入金額1000000\n",
            "賦稅金額為:300000.0元\n"
          ]
        }
      ]
    }
  ]
}