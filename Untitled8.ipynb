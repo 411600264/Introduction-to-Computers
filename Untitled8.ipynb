{
  "nbformat": 4,
  "nbformat_minor": 0,
  "metadata": {
    "colab": {
      "provenance": [],
      "authorship_tag": "ABX9TyOgSku6pmrFpikjcLem1z2/",
      "include_colab_link": true
    },
    "kernelspec": {
      "name": "python3",
      "display_name": "Python 3"
    },
    "language_info": {
      "name": "python"
    }
  },
  "cells": [
    {
      "cell_type": "markdown",
      "metadata": {
        "id": "view-in-github",
        "colab_type": "text"
      },
      "source": [
        "<a href=\"https://colab.research.google.com/github/411600264/Introduction-to-Computers/blob/main/Untitled8.ipynb\" target=\"_parent\"><img src=\"https://colab.research.google.com/assets/colab-badge.svg\" alt=\"Open In Colab\"/></a>"
      ]
    },
    {
      "cell_type": "code",
      "source": [
        "for i in range(1,10):\n",
        "  print(i)"
      ],
      "metadata": {
        "colab": {
          "base_uri": "https://localhost:8080/"
        },
        "id": "-bCpt5Xh9Xve",
        "outputId": "1ddfae37-767d-44eb-e0ad-e310a2184b12"
      },
      "execution_count": 41,
      "outputs": [
        {
          "output_type": "stream",
          "name": "stdout",
          "text": [
            "1\n",
            "2\n",
            "3\n",
            "4\n",
            "5\n",
            "6\n",
            "7\n",
            "8\n",
            "9\n"
          ]
        }
      ]
    },
    {
      "cell_type": "code",
      "source": [
        "testlist=[1,2,3,4,5]\n",
        "for i in testlist:\n",
        "    print(i)\n"
      ],
      "metadata": {
        "colab": {
          "base_uri": "https://localhost:8080/"
        },
        "id": "cpttqvrp9Xz-",
        "outputId": "a5ff9867-0b07-464f-c6f5-08f7991f2686"
      },
      "execution_count": 49,
      "outputs": [
        {
          "output_type": "stream",
          "name": "stdout",
          "text": [
            "1\n",
            "2\n",
            "3\n",
            "4\n",
            "5\n"
          ]
        }
      ]
    },
    {
      "cell_type": "code",
      "source": [
        "a=\"python\""
      ],
      "metadata": {
        "id": "xbs5AZdl_Kg1"
      },
      "execution_count": 50,
      "outputs": []
    },
    {
      "cell_type": "code",
      "source": [
        "for i in a:\n",
        "  print(i)\n"
      ],
      "metadata": {
        "colab": {
          "base_uri": "https://localhost:8080/"
        },
        "id": "YisCQnZc_QtN",
        "outputId": "55665093-d802-4d71-af58-d351a935056e"
      },
      "execution_count": 51,
      "outputs": [
        {
          "output_type": "stream",
          "name": "stdout",
          "text": [
            "p\n",
            "y\n",
            "t\n",
            "h\n",
            "o\n",
            "n\n"
          ]
        }
      ]
    },
    {
      "cell_type": "code",
      "source": [
        "n=int(input(\"請輸入整數:\"))"
      ],
      "metadata": {
        "colab": {
          "base_uri": "https://localhost:8080/"
        },
        "id": "47FgB7EW_Wbl",
        "outputId": "b59de3af-73de-4678-97aa-147c60f5baf3"
      },
      "execution_count": 59,
      "outputs": [
        {
          "name": "stdout",
          "output_type": "stream",
          "text": [
            "請輸入整數:11\n"
          ]
        }
      ]
    },
    {
      "cell_type": "code",
      "source": [
        "for i in range(2,n):\n",
        "  if n%i == 0:\n",
        "    print(str(n)+\"不是質數\")\n",
        "    break\n",
        "else:\n",
        "  print(str(n)+\"是質數\")"
      ],
      "metadata": {
        "colab": {
          "base_uri": "https://localhost:8080/"
        },
        "id": "M75diZ-I_WeP",
        "outputId": "1b6fca52-15bc-4b75-f287-fe2f762fd4a1"
      },
      "execution_count": 60,
      "outputs": [
        {
          "output_type": "stream",
          "name": "stdout",
          "text": [
            "11是質數\n"
          ]
        }
      ]
    },
    {
      "cell_type": "code",
      "source": [
        "i=0\n",
        "while i<5:\n",
        "  print(i)\n",
        "  i+=1"
      ],
      "metadata": {
        "colab": {
          "base_uri": "https://localhost:8080/"
        },
        "id": "WxYTdpF4BC7V",
        "outputId": "6f1d1b6e-147c-459a-8159-fe61194d99b1"
      },
      "execution_count": 63,
      "outputs": [
        {
          "output_type": "stream",
          "name": "stdout",
          "text": [
            "0\n",
            "1\n",
            "2\n",
            "3\n",
            "4\n"
          ]
        }
      ]
    },
    {
      "cell_type": "code",
      "source": [
        "for i in range(1,10):\n",
        "  for j in range(1,10):\n",
        "   \n",
        "  \n",
        "    if j ==9:\n",
        "      print(str(i)+\"*\"+str(j)+\"=\"+str(i*j))\n",
        "    else:\n",
        "      print(str(i)+\"*\"+str(j)+\"=\"+str(i*j),end=\"\\t\")"
      ],
      "metadata": {
        "colab": {
          "base_uri": "https://localhost:8080/"
        },
        "id": "VkBckRfDBDEm",
        "outputId": "9b3d0203-6368-41f7-a3f9-10914a5b927b"
      },
      "execution_count": 107,
      "outputs": [
        {
          "output_type": "stream",
          "name": "stdout",
          "text": [
            "1*1=1\t1*2=2\t1*3=3\t1*4=4\t1*5=5\t1*6=6\t1*7=7\t1*8=8\t1*9=9\n",
            "2*1=2\t2*2=4\t2*3=6\t2*4=8\t2*5=10\t2*6=12\t2*7=14\t2*8=16\t2*9=18\n",
            "3*1=3\t3*2=6\t3*3=9\t3*4=12\t3*5=15\t3*6=18\t3*7=21\t3*8=24\t3*9=27\n",
            "4*1=4\t4*2=8\t4*3=12\t4*4=16\t4*5=20\t4*6=24\t4*7=28\t4*8=32\t4*9=36\n",
            "5*1=5\t5*2=10\t5*3=15\t5*4=20\t5*5=25\t5*6=30\t5*7=35\t5*8=40\t5*9=45\n",
            "6*1=6\t6*2=12\t6*3=18\t6*4=24\t6*5=30\t6*6=36\t6*7=42\t6*8=48\t6*9=54\n",
            "7*1=7\t7*2=14\t7*3=21\t7*4=28\t7*5=35\t7*6=42\t7*7=49\t7*8=56\t7*9=63\n",
            "8*1=8\t8*2=16\t8*3=24\t8*4=32\t8*5=40\t8*6=48\t8*7=56\t8*8=64\t8*9=72\n",
            "9*1=9\t9*2=18\t9*3=27\t9*4=36\t9*5=45\t9*6=54\t9*7=63\t9*8=72\t9*9=81\n"
          ]
        }
      ]
    },
    {
      "cell_type": "code",
      "source": [
        "letters=[\"apple\",\"b\",\"c\",\"frog\",\"g\"]\n",
        "print(letters[0])"
      ],
      "metadata": {
        "colab": {
          "base_uri": "https://localhost:8080/"
        },
        "id": "HMEdR99DBDLL",
        "outputId": "c8133cbe-9f33-4458-bb4f-65e21dfb16f0"
      },
      "execution_count": 113,
      "outputs": [
        {
          "output_type": "stream",
          "name": "stdout",
          "text": [
            "apple\n"
          ]
        }
      ]
    },
    {
      "cell_type": "code",
      "source": [
        "print(list(\"steak\"))\n"
      ],
      "metadata": {
        "colab": {
          "base_uri": "https://localhost:8080/"
        },
        "id": "wSgZwOl-BDPh",
        "outputId": "c1d5791d-baf9-44f8-a052-b27b604034d6"
      },
      "execution_count": 116,
      "outputs": [
        {
          "output_type": "stream",
          "name": "stdout",
          "text": [
            "['s', 't', 'e', 'a', 'k']\n"
          ]
        }
      ]
    },
    {
      "cell_type": "code",
      "source": [
        "breakfast=(\"sandwich\",\"milk\")\n",
        "print(list(breakfast))"
      ],
      "metadata": {
        "colab": {
          "base_uri": "https://localhost:8080/"
        },
        "id": "3xg02c_QBDQx",
        "outputId": "2d319f08-1983-45ce-fe69-528016b80fae"
      },
      "execution_count": 118,
      "outputs": [
        {
          "output_type": "stream",
          "name": "stdout",
          "text": [
            "['sandwich', 'milk']\n"
          ]
        }
      ]
    },
    {
      "cell_type": "code",
      "source": [
        "date=\"2023/6/5\"\n",
        "print(date.split(\"/\"))"
      ],
      "metadata": {
        "colab": {
          "base_uri": "https://localhost:8080/"
        },
        "id": "F5QzsddMBDSd",
        "outputId": "b3fb5652-2f05-4883-f519-00633bdc4300"
      },
      "execution_count": 120,
      "outputs": [
        {
          "output_type": "stream",
          "name": "stdout",
          "text": [
            "['2023', '6', '5']\n"
          ]
        }
      ]
    },
    {
      "cell_type": "code",
      "source": [
        "date=\"2023/6/5\"\n",
        "print(date.split(\"/\",1))"
      ],
      "metadata": {
        "colab": {
          "base_uri": "https://localhost:8080/"
        },
        "id": "6cTmuAJVBDXt",
        "outputId": "ddb23a54-d544-4374-9f61-f2878409ebc1"
      },
      "execution_count": 125,
      "outputs": [
        {
          "output_type": "stream",
          "name": "stdout",
          "text": [
            "['2023', '6/5']\n"
          ]
        }
      ]
    },
    {
      "cell_type": "code",
      "source": [
        "print([\"1\",\"2\",\"3\"])\n",
        "print(list(\"123456789\"))\n",
        "print(\"126345\".split())"
      ],
      "metadata": {
        "colab": {
          "base_uri": "https://localhost:8080/"
        },
        "id": "1OeOQ9obBDY0",
        "outputId": "328d3159-96fc-4532-bcf5-6da6c13dd710"
      },
      "execution_count": 132,
      "outputs": [
        {
          "output_type": "stream",
          "name": "stdout",
          "text": [
            "['1', '2', '3']\n",
            "['1', '2', '3', '4', '5', '6', '7', '8', '9']\n",
            "['126345']\n"
          ]
        }
      ]
    },
    {
      "cell_type": "code",
      "source": [
        "print(len(letters))\n",
        "print(letters.index(\"frog\"))\n",
        "print(\"frog\" in letters)\n",
        "print(\"frog\" not in letters)"
      ],
      "metadata": {
        "colab": {
          "base_uri": "https://localhost:8080/"
        },
        "id": "pXWO00kWX477",
        "outputId": "9d484000-72c9-495d-9a40-0b3dd6dae264"
      },
      "execution_count": 136,
      "outputs": [
        {
          "output_type": "stream",
          "name": "stdout",
          "text": [
            "5\n",
            "3\n",
            "True\n",
            "False\n"
          ]
        }
      ]
    },
    {
      "cell_type": "code",
      "source": [
        "red=[\"flower\",\"blood\",\"hair\",\"cloud\",\"hair\",\"bird\",\"cake\"]\n",
        "print(red.count(\"hair\"))\n",
        "print(red.count(\"apple\"))\n",
        "print(red[0])\n",
        "print(red[-1])\n",
        "print(red[:])\n",
        "print(red[3:])\n",
        "print(red[:5])"
      ],
      "metadata": {
        "colab": {
          "base_uri": "https://localhost:8080/"
        },
        "id": "-QIffddwX4-R",
        "outputId": "ff93f427-eae5-49c8-ea57-7ee8549f1616"
      },
      "execution_count": 146,
      "outputs": [
        {
          "output_type": "stream",
          "name": "stdout",
          "text": [
            "2\n",
            "0\n",
            "flower\n",
            "cake\n",
            "['flower', 'blood', 'hair', 'cloud', 'hair', 'bird', 'cake']\n",
            "['cloud', 'hair', 'bird', 'cake']\n",
            "['flower', 'blood', 'hair', 'cloud', 'hair']\n"
          ]
        }
      ]
    },
    {
      "cell_type": "code",
      "source": [
        "n = int(input(\"輸入:\"))\n",
        "if n>=0 and n%2==0:\n",
        "  print(str(n)+\"is even\")\n",
        "elif n>=0 and n %2!=0:\n",
        "  print(str(n)+\"is odd\")\n",
        "else:\n",
        "  print(\"Input Error\")"
      ],
      "metadata": {
        "colab": {
          "base_uri": "https://localhost:8080/"
        },
        "id": "nutV0oCeX5A6",
        "outputId": "be93109d-9ef6-434c-eb5a-b7191015f56f"
      },
      "execution_count": 156,
      "outputs": [
        {
          "output_type": "stream",
          "name": "stdout",
          "text": [
            "輸入:50\n",
            "50is even\n"
          ]
        }
      ]
    },
    {
      "cell_type": "code",
      "source": [
        "a=0\n",
        "for i in range(1,101):\n",
        "  a+=i\n",
        "print(a)\n",
        "\n"
      ],
      "metadata": {
        "colab": {
          "base_uri": "https://localhost:8080/"
        },
        "id": "HetWJMy0bAcl",
        "outputId": "2324b878-c6da-4ee6-bb46-e1745af665e2"
      },
      "execution_count": 157,
      "outputs": [
        {
          "output_type": "stream",
          "name": "stdout",
          "text": [
            "5050\n"
          ]
        }
      ]
    },
    {
      "cell_type": "code",
      "source": [
        "n=int(input(\"請輸入數字:\"))\n",
        "print(100000*(1+0.03)**n)\n",
        "if n>=0:\n",
        "  print(100000*(1+0.03)**n)\n",
        "  else: n<=0\n",
        "print(\"Input Error\")\n",
        "    "
      ],
      "metadata": {
        "colab": {
          "base_uri": "https://localhost:8080/",
          "height": 167
        },
        "id": "yLH2GB0obAkU",
        "outputId": "ed1bf499-6e6f-4fe7-8456-058a16147e16"
      },
      "execution_count": 188,
      "outputs": [
        {
          "output_type": "stream",
          "name": "stdout",
          "text": [
            "請輸入數字:-1\n",
            "97087.3786407767\n"
          ]
        },
        {
          "output_type": "error",
          "ename": "SyntaxError",
          "evalue": "ignored",
          "traceback": [
            "\u001b[0;36m  File \u001b[0;32m\"<ipython-input-188-1baaacae219e>\"\u001b[0;36m, line \u001b[0;32m5\u001b[0m\n\u001b[0;31m    break\u001b[0m\n\u001b[0m    ^\u001b[0m\n\u001b[0;31mSyntaxError\u001b[0m\u001b[0;31m:\u001b[0m 'break' outside loop\n"
          ]
        }
      ]
    },
    {
      "cell_type": "code",
      "source": [
        "a=input(\"輸入:\").split()\n",
        "print(a)\n",
        "for i in a[:]:\n",
        "  print(\"i=\",i)\n",
        "for i in a[0:2:1]:\n",
        "  print(\"i=\",i)\n",
        "for i in a[::-1]:\n",
        "  print(\"i=\",i,end=\" \")"
      ],
      "metadata": {
        "colab": {
          "base_uri": "https://localhost:8080/"
        },
        "id": "viZpC8hPbAms",
        "outputId": "a75d6215-f990-4d7b-aed9-0bdb27c52e09"
      },
      "execution_count": 193,
      "outputs": [
        {
          "output_type": "stream",
          "name": "stdout",
          "text": [
            "輸入:apple cake banana\n",
            "['apple', 'cake', 'banana']\n",
            "i= apple\n",
            "i= cake\n",
            "i= banana\n",
            "i= apple\n",
            "i= cake\n",
            "i= banana i= cake i= apple "
          ]
        }
      ]
    },
    {
      "cell_type": "code",
      "source": [],
      "metadata": {
        "id": "awkcGdrLbAok"
      },
      "execution_count": null,
      "outputs": []
    }
  ]
}