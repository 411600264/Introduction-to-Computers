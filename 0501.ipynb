{
  "nbformat": 4,
  "nbformat_minor": 0,
  "metadata": {
    "colab": {
      "provenance": [],
      "authorship_tag": "ABX9TyNyisLsbV1votXI80bF6Wew",
      "include_colab_link": true
    },
    "kernelspec": {
      "name": "python3",
      "display_name": "Python 3"
    },
    "language_info": {
      "name": "python"
    }
  },
  "cells": [
    {
      "cell_type": "markdown",
      "metadata": {
        "id": "view-in-github",
        "colab_type": "text"
      },
      "source": [
        "<a href=\"https://colab.research.google.com/github/411600264/Introduction-to-Computers/blob/main/0501.ipynb\" target=\"_parent\"><img src=\"https://colab.research.google.com/assets/colab-badge.svg\" alt=\"Open In Colab\"/></a>"
      ]
    },
    {
      "cell_type": "code",
      "execution_count": 1,
      "metadata": {
        "id": "NQZae9HM86_E"
      },
      "outputs": [],
      "source": [
        "deposit = 10000 \n",
        "interest_rate = 0.02\n",
        "years = 6 "
      ]
    },
    {
      "cell_type": "code",
      "source": [
        "for i in range(years):\n",
        " deposit *= (1 + interest_rate)"
      ],
      "metadata": {
        "id": "ZkbMXkhK-3xL"
      },
      "execution_count": 5,
      "outputs": []
    },
    {
      "cell_type": "code",
      "source": [
        "print(\"六年後的本金為:\", deposit)"
      ],
      "metadata": {
        "colab": {
          "base_uri": "https://localhost:8080/"
        },
        "id": "o8tjfSLT-3zw",
        "outputId": "03e54b8f-54f3-4c4d-81f7-24aa13b621f4"
      },
      "execution_count": 3,
      "outputs": [
        {
          "output_type": "stream",
          "name": "stdout",
          "text": [
            "六年後的本金為: 11261.62419264\n"
          ]
        }
      ]
    },
    {
      "cell_type": "code",
      "source": [
        "print(\"Hello World\" )"
      ],
      "metadata": {
        "colab": {
          "base_uri": "https://localhost:8080/"
        },
        "id": "qShC6GtV-322",
        "outputId": "ac2f3480-4cff-44d7-b861-d4178c882a2a"
      },
      "execution_count": 6,
      "outputs": [
        {
          "output_type": "stream",
          "name": "stdout",
          "text": [
            "Hello World\n"
          ]
        }
      ]
    },
    {
      "cell_type": "code",
      "source": [
        "F = 100"
      ],
      "metadata": {
        "id": "F686USjI-353"
      },
      "execution_count": 7,
      "outputs": []
    },
    {
      "cell_type": "code",
      "source": [
        "F = float(input(\"請輸入華氏溫度: \"))"
      ],
      "metadata": {
        "colab": {
          "base_uri": "https://localhost:8080/"
        },
        "id": "vgAVW2wO-38n",
        "outputId": "9382ea32-4b9e-4e1d-9851-314941774b01"
      },
      "execution_count": 8,
      "outputs": [
        {
          "name": "stdout",
          "output_type": "stream",
          "text": [
            "請輸入華氏溫度: 100\n"
          ]
        }
      ]
    },
    {
      "cell_type": "code",
      "source": [
        "C = (F - 32) * 5 / 9"
      ],
      "metadata": {
        "id": "LyJ-VoqC-3-p"
      },
      "execution_count": 9,
      "outputs": []
    },
    {
      "cell_type": "code",
      "source": [
        "C"
      ],
      "metadata": {
        "colab": {
          "base_uri": "https://localhost:8080/"
        },
        "id": "S7A3Cz50-4An",
        "outputId": "05a200d2-a2ff-4d79-e5ef-3932a511227d"
      },
      "execution_count": 10,
      "outputs": [
        {
          "output_type": "execute_result",
          "data": {
            "text/plain": [
              "37.77777777777778"
            ]
          },
          "metadata": {},
          "execution_count": 10
        }
      ]
    },
    {
      "cell_type": "code",
      "source": [
        "print(\"攝氏溫度為: %.1f\" % C)"
      ],
      "metadata": {
        "colab": {
          "base_uri": "https://localhost:8080/"
        },
        "id": "Xys8dV6H_Pah",
        "outputId": "6616118c-08e4-41a9-f4af-334c516e1a65"
      },
      "execution_count": 11,
      "outputs": [
        {
          "output_type": "stream",
          "name": "stdout",
          "text": [
            "攝氏溫度為: 37.8\n"
          ]
        }
      ]
    },
    {
      "cell_type": "code",
      "source": [
        "G = int(input(\"請輸入一個整數: \"))"
      ],
      "metadata": {
        "colab": {
          "base_uri": "https://localhost:8080/"
        },
        "id": "bX-0bt4I_Pc3",
        "outputId": "0dd2b07d-502d-48d9-97c9-7e5478748627"
      },
      "execution_count": 13,
      "outputs": [
        {
          "name": "stdout",
          "output_type": "stream",
          "text": [
            "請輸入一個整數: 0101\n"
          ]
        }
      ]
    },
    {
      "cell_type": "code",
      "source": [
        "total = 0\n",
        "for i in range(1, G+1):\n",
        "    total += i"
      ],
      "metadata": {
        "id": "zjiGEE5f_Pfs"
      },
      "execution_count": 14,
      "outputs": []
    },
    {
      "cell_type": "code",
      "source": [
        "print(\"1到%a的所有整數和為：%a\" % (G, total))"
      ],
      "metadata": {
        "colab": {
          "base_uri": "https://localhost:8080/"
        },
        "id": "cSKtmIGB_Pjh",
        "outputId": "f457e0d6-9a1b-49ad-cc01-6fe2a3563c66"
      },
      "execution_count": 15,
      "outputs": [
        {
          "output_type": "stream",
          "name": "stdout",
          "text": [
            "1到101的所有整數和為：5151\n"
          ]
        }
      ]
    }
  ]
}