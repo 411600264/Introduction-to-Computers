{
  "nbformat": 4,
  "nbformat_minor": 0,
  "metadata": {
    "colab": {
      "provenance": [],
      "authorship_tag": "ABX9TyN4UX/ZzXDLzGYHYC/lz4wb",
      "include_colab_link": true
    },
    "kernelspec": {
      "name": "python3",
      "display_name": "Python 3"
    },
    "language_info": {
      "name": "python"
    }
  },
  "cells": [
    {
      "cell_type": "markdown",
      "metadata": {
        "id": "view-in-github",
        "colab_type": "text"
      },
      "source": [
        "<a href=\"https://colab.research.google.com/github/411600264/Introduction-to-Computers/blob/main/0508.ipynb\" target=\"_parent\"><img src=\"https://colab.research.google.com/assets/colab-badge.svg\" alt=\"Open In Colab\"/></a>"
      ]
    },
    {
      "cell_type": "code",
      "execution_count": 1,
      "metadata": {
        "colab": {
          "base_uri": "https://localhost:8080/"
        },
        "id": "N7Isko5VxzFl",
        "outputId": "2c66e487-0c5b-4a26-ae83-bc1bd3e95b7f"
      },
      "outputs": [
        {
          "output_type": "stream",
          "name": "stdout",
          "text": [
            "hi\n"
          ]
        }
      ],
      "source": [
        " print(\"hi\")"
      ]
    },
    {
      "cell_type": "code",
      "source": [
        "score =int(input(\"請輸入分數:\"))\n",
        "if score >=60:\n",
        "  print(\"及格\")\n",
        "else:\n",
        "  print(\"不及格\")"
      ],
      "metadata": {
        "colab": {
          "base_uri": "https://localhost:8080/"
        },
        "id": "0L2rKKF9zL1K",
        "outputId": "ed481a0b-03d4-4231-cd4a-edc40ca7c0de"
      },
      "execution_count": 6,
      "outputs": [
        {
          "output_type": "stream",
          "name": "stdout",
          "text": [
            "請輸入分數:50\n",
            "不及格\n"
          ]
        }
      ]
    },
    {
      "cell_type": "code",
      "source": [
        " password = int (input(\"請輸入密碼:\"))\n",
        " if password == 1234:\n",
        "  print(\"密碼正確\")\n",
        " else:\n",
        "  print(\"密碼不正確\")"
      ],
      "metadata": {
        "colab": {
          "base_uri": "https://localhost:8080/"
        },
        "id": "Z8ORGh_mzY6p",
        "outputId": "cfe745e5-0024-4644-8fc1-caef251d32ef"
      },
      "execution_count": 7,
      "outputs": [
        {
          "output_type": "stream",
          "name": "stdout",
          "text": [
            "請輸入密碼:1234\n",
            "密碼正確\n"
          ]
        }
      ]
    },
    {
      "cell_type": "code",
      "source": [
        " rain = input('今天會下雨嗎？')\n",
        " if rain == 'Y' or rain == 'y':\n",
        "   print('出門記得帶傘!')\n",
        " else:\n",
        "   print('不用帶傘')\n"
      ],
      "metadata": {
        "colab": {
          "base_uri": "https://localhost:8080/"
        },
        "id": "NsZypbO0zY9B",
        "outputId": "3cd76185-7f71-404b-80bb-38b8c1f3474a"
      },
      "execution_count": 8,
      "outputs": [
        {
          "output_type": "stream",
          "name": "stdout",
          "text": [
            "今天會下雨嗎？y\n",
            "出門記得帶傘!\n"
          ]
        }
      ]
    },
    {
      "cell_type": "code",
      "source": [
        " num = int(input(\"請輸入一個整數：\"))\n",
        "\n",
        "if num % 2 == 0:\n",
        "    print(num, \"是偶數\")\n",
        "else:\n",
        "    print(num, \"是奇數\")\n",
        "     "
      ],
      "metadata": {
        "colab": {
          "base_uri": "https://localhost:8080/"
        },
        "id": "eQMgyI0_zY_6",
        "outputId": "74e3bdf8-eedc-4931-fc2f-be072a99568f"
      },
      "execution_count": 9,
      "outputs": [
        {
          "output_type": "stream",
          "name": "stdout",
          "text": [
            "請輸入一個整數：5\n",
            "5 是奇數\n"
          ]
        }
      ]
    },
    {
      "cell_type": "code",
      "source": [
        " num = int(input(\"請輸入一個整數：\"))\n",
        "\n",
        "if num % 2 == 0:\n",
        "    print(num, \"是偶數\")\n",
        "else:\n",
        "    print(num, \"是奇數\")"
      ],
      "metadata": {
        "colab": {
          "base_uri": "https://localhost:8080/"
        },
        "id": "Bcy6eaMCzZCd",
        "outputId": "66f16571-8080-48b0-9e7d-cffb6bcc6556"
      },
      "execution_count": 10,
      "outputs": [
        {
          "output_type": "stream",
          "name": "stdout",
          "text": [
            "請輸入一個整數：10\n",
            "10 是偶數\n"
          ]
        }
      ]
    }
  ]
}